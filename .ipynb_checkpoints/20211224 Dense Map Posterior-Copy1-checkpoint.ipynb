{
 "cells": [
  {
   "cell_type": "code",
   "execution_count": 1,
   "id": "046641f5-0207-424a-9d3d-df8314b688ac",
   "metadata": {},
   "outputs": [],
   "source": [
    "import sys  \n",
    "sys.path.insert(0, './lib')\n",
    "\n",
    "import numpy as np"
   ]
  },
  {
   "cell_type": "code",
   "execution_count": 2,
   "id": "1a188560-a7cc-4669-994a-062d715bd0ac",
   "metadata": {},
   "outputs": [
    {
     "name": "stdout",
     "output_type": "stream",
     "text": [
      "Jupyter environment detected. Enabling Open3D WebVisualizer.\n",
      "[Open3D INFO] WebRTC GUI backend enabled.\n",
      "[Open3D INFO] WebRTCWindowSystem: HTTP handshake server disabled.\n"
     ]
    },
    {
     "name": "stderr",
     "output_type": "stream",
     "text": [
      "INFO - 2021-12-24 08:50:40,685 - utils - Note: NumExpr detected 16 cores but \"NUMEXPR_MAX_THREADS\" not set, so enforcing safe limit of 8.\n",
      "INFO - 2021-12-24 08:50:40,685 - utils - NumExpr defaulting to 8 threads.\n"
     ]
    }
   ],
   "source": [
    "import DenseMapPosterior as DMP"
   ]
  },
  {
   "cell_type": "code",
   "execution_count": 3,
   "id": "db436d13-d719-45a3-8ed5-e0b31f66de8f",
   "metadata": {},
   "outputs": [],
   "source": [
    "import matplotlib.pyplot as plt\n",
    "plt.rcParams['figure.figsize'] = [20, 10]"
   ]
  },
  {
   "cell_type": "markdown",
   "id": "1cd91e40-0b79-46e1-84bb-bd476a22fb05",
   "metadata": {
    "tags": []
   },
   "source": [
    "# Projection"
   ]
  },
  {
   "cell_type": "code",
   "execution_count": 4,
   "id": "ef22f0e8-3ddf-4c6f-bf7e-a57e6385e1e4",
   "metadata": {},
   "outputs": [],
   "source": [
    "fx=118.3031; fy=118.3031; cx=199.50; cy=49.50/2\n",
    "A = np.array([[fx,0,cx],\n",
    "              [0,fy,cy],\n",
    "              [0,0,1]])"
   ]
  },
  {
   "cell_type": "code",
   "execution_count": 5,
   "id": "72aba77d-df49-4d85-922f-6908a0a692d6",
   "metadata": {},
   "outputs": [],
   "source": [
    "bad_seq_ids = ['2021-12-15-07-37-30', '2021-12-15-09-06-38']\n",
    "good_seq_ids = ['2021-12-15-07-11-55', '2021-12-15-08-29-23', '2021-12-15-07-00-32', '2021-12-15-09-01-46']"
   ]
  },
  {
   "cell_type": "code",
   "execution_count": null,
   "id": "e66a6026-b66d-45e2-bc1f-0c22d75877b5",
   "metadata": {},
   "outputs": [],
   "source": []
  },
  {
   "cell_type": "code",
   "execution_count": 6,
   "id": "3addc24a-094b-4480-9775-b593548b3bd1",
   "metadata": {},
   "outputs": [],
   "source": [
    "dmp_bad = DMP.DenseMapPosterior(bad_seq_ids[0], A)\n",
    "dmp_bad.compute()"
   ]
  },
  {
   "cell_type": "code",
   "execution_count": 7,
   "id": "8bbabae4-1b6e-4755-b495-a750e86799da",
   "metadata": {},
   "outputs": [
    {
     "name": "stdout",
     "output_type": "stream",
     "text": [
      "0 / 948\n",
      "10 / 948\n",
      "20 / 948\n"
     ]
    },
    {
     "ename": "KeyboardInterrupt",
     "evalue": "",
     "output_type": "error",
     "traceback": [
      "\u001b[0;31m---------------------------------------------------------------------------\u001b[0m",
      "\u001b[0;31mKeyboardInterrupt\u001b[0m                         Traceback (most recent call last)",
      "\u001b[0;32m/tmp/ipykernel_3601/2240744656.py\u001b[0m in \u001b[0;36m<module>\u001b[0;34m\u001b[0m\n\u001b[0;32m----> 1\u001b[0;31m \u001b[0mdmp\u001b[0m\u001b[0;34m.\u001b[0m\u001b[0mcompute\u001b[0m\u001b[0;34m(\u001b[0m\u001b[0;34m)\u001b[0m\u001b[0;34m\u001b[0m\u001b[0;34m\u001b[0m\u001b[0m\n\u001b[0m",
      "\u001b[0;32m/share/dense_map_posterior/./lib/DenseMapPosterior.py\u001b[0m in \u001b[0;36mcompute\u001b[0;34m(self)\u001b[0m\n\u001b[1;32m    109\u001b[0m \u001b[0;34m\u001b[0m\u001b[0m\n\u001b[1;32m    110\u001b[0m             \u001b[0;31m# global map projection\u001b[0m\u001b[0;34m\u001b[0m\u001b[0;34m\u001b[0m\u001b[0m\n\u001b[0;32m--> 111\u001b[0;31m             \u001b[0mprojected_global_img\u001b[0m \u001b[0;34m=\u001b[0m \u001b[0mself\u001b[0m\u001b[0;34m.\u001b[0m\u001b[0mGlobalMapProjection\u001b[0m\u001b[0;34m(\u001b[0m\u001b[0mglobal_map\u001b[0m\u001b[0;34m,\u001b[0m \u001b[0mself\u001b[0m\u001b[0;34m.\u001b[0m\u001b[0mseq_id\u001b[0m\u001b[0;34m,\u001b[0m \u001b[0mframe_idx\u001b[0m\u001b[0;34m)\u001b[0m\u001b[0;34m\u001b[0m\u001b[0;34m\u001b[0m\u001b[0m\n\u001b[0m\u001b[1;32m    112\u001b[0m \u001b[0;34m\u001b[0m\u001b[0m\n\u001b[1;32m    113\u001b[0m             \u001b[0;31m# lidar frame projection\u001b[0m\u001b[0;34m\u001b[0m\u001b[0;34m\u001b[0m\u001b[0m\n",
      "\u001b[0;32m/share/dense_map_posterior/./lib/DenseMapPosterior.py\u001b[0m in \u001b[0;36mGlobalMapProjection\u001b[0;34m(self, global_map, seq_id, frame_idx)\u001b[0m\n\u001b[1;32m     82\u001b[0m         \u001b[0mglobal_points\u001b[0m \u001b[0;34m=\u001b[0m \u001b[0mnp\u001b[0m\u001b[0;34m.\u001b[0m\u001b[0mtranspose\u001b[0m\u001b[0;34m(\u001b[0m\u001b[0mnew_global_points\u001b[0m\u001b[0;34m)\u001b[0m\u001b[0;34m\u001b[0m\u001b[0;34m\u001b[0m\u001b[0m\n\u001b[1;32m     83\u001b[0m \u001b[0;34m\u001b[0m\u001b[0m\n\u001b[0;32m---> 84\u001b[0;31m         \u001b[0mprojected_global_img\u001b[0m \u001b[0;34m=\u001b[0m \u001b[0mself\u001b[0m\u001b[0;34m.\u001b[0m\u001b[0mprojection\u001b[0m\u001b[0;34m(\u001b[0m\u001b[0mglobal_points\u001b[0m\u001b[0;34m,\u001b[0m \u001b[0mself\u001b[0m\u001b[0;34m.\u001b[0m\u001b[0mintrinsic_matrix\u001b[0m\u001b[0;34m,\u001b[0m \u001b[0mRt\u001b[0m\u001b[0;34m)\u001b[0m\u001b[0;34m\u001b[0m\u001b[0;34m\u001b[0m\u001b[0m\n\u001b[0m\u001b[1;32m     85\u001b[0m         \u001b[0;31m# plt.imshow(projected_global_img[:,:,2])\u001b[0m\u001b[0;34m\u001b[0m\u001b[0;34m\u001b[0m\u001b[0m\n\u001b[1;32m     86\u001b[0m \u001b[0;34m\u001b[0m\u001b[0m\n",
      "\u001b[0;32m/share/dense_map_posterior/./lib/DenseMapPosterior.py\u001b[0m in \u001b[0;36mprojection\u001b[0;34m(self, _points, _A, _Rt, range_limit)\u001b[0m\n\u001b[1;32m     45\u001b[0m             \u001b[0;31m# distorted_y = int(t_y + r/(1 + k1*r**2 + k2*r**4 + k3*r**6))\u001b[0m\u001b[0;34m\u001b[0m\u001b[0;34m\u001b[0m\u001b[0m\n\u001b[1;32m     46\u001b[0m \u001b[0;34m\u001b[0m\u001b[0m\n\u001b[0;32m---> 47\u001b[0;31m             \u001b[0mnew_val\u001b[0m \u001b[0;34m=\u001b[0m \u001b[0mtransformed_points\u001b[0m\u001b[0;34m[\u001b[0m\u001b[0mi\u001b[0m\u001b[0;34m]\u001b[0m\u001b[0;34m\u001b[0m\u001b[0;34m\u001b[0m\u001b[0m\n\u001b[0m\u001b[1;32m     48\u001b[0m             \u001b[0mpre_val\u001b[0m \u001b[0;34m=\u001b[0m \u001b[0mprojected_img\u001b[0m\u001b[0;34m[\u001b[0m\u001b[0mt_y\u001b[0m\u001b[0;34m,\u001b[0m \u001b[0mt_x\u001b[0m\u001b[0;34m]\u001b[0m\u001b[0;34m\u001b[0m\u001b[0;34m\u001b[0m\u001b[0m\n\u001b[1;32m     49\u001b[0m             \u001b[0;32mif\u001b[0m \u001b[0;34m(\u001b[0m\u001b[0mnew_val\u001b[0m\u001b[0;34m[\u001b[0m\u001b[0;36m2\u001b[0m\u001b[0;34m]\u001b[0m \u001b[0;34m<\u001b[0m \u001b[0mpre_val\u001b[0m\u001b[0;34m[\u001b[0m\u001b[0;36m2\u001b[0m\u001b[0;34m]\u001b[0m\u001b[0;34m)\u001b[0m\u001b[0;34m:\u001b[0m\u001b[0;34m\u001b[0m\u001b[0;34m\u001b[0m\u001b[0m\n",
      "\u001b[0;31mKeyboardInterrupt\u001b[0m: "
     ]
    }
   ],
   "source": [
    "dmp_good = DMP.DenseMapPosterior(good_seq_ids[0], A)\n",
    "dmp_good.compute()"
   ]
  },
  {
   "cell_type": "code",
   "execution_count": null,
   "id": "a77fe699-0a86-4f97-a0f2-73cc86d74d50",
   "metadata": {},
   "outputs": [],
   "source": []
  }
 ],
 "metadata": {
  "kernelspec": {
   "display_name": "Python 3 (ipykernel)",
   "language": "python",
   "name": "python3"
  },
  "language_info": {
   "codemirror_mode": {
    "name": "ipython",
    "version": 3
   },
   "file_extension": ".py",
   "mimetype": "text/x-python",
   "name": "python",
   "nbconvert_exporter": "python",
   "pygments_lexer": "ipython3",
   "version": "3.9.7"
  }
 },
 "nbformat": 4,
 "nbformat_minor": 5
}
