{
 "cells": [
  {
   "cell_type": "code",
   "execution_count": 1,
   "id": "1a188560-a7cc-4669-994a-062d715bd0ac",
   "metadata": {},
   "outputs": [
    {
     "name": "stdout",
     "output_type": "stream",
     "text": [
      "Jupyter environment detected. Enabling Open3D WebVisualizer.\n",
      "[Open3D INFO] WebRTC GUI backend enabled.\n",
      "[Open3D INFO] WebRTCWindowSystem: HTTP handshake server disabled.\n"
     ]
    },
    {
     "name": "stderr",
     "output_type": "stream",
     "text": [
      "INFO - 2021-12-24 08:14:59,581 - utils - Note: NumExpr detected 16 cores but \"NUMEXPR_MAX_THREADS\" not set, so enforcing safe limit of 8.\n",
      "INFO - 2021-12-24 08:14:59,581 - utils - NumExpr defaulting to 8 threads.\n"
     ]
    }
   ],
   "source": [
    "import open3d as o3d\n",
    "import numpy as np\n",
    "import matplotlib.pyplot as plt\n",
    "from scipy.spatial.transform import Rotation as R\n",
    "from glob import glob"
   ]
  },
  {
   "cell_type": "code",
   "execution_count": 2,
   "id": "db436d13-d719-45a3-8ed5-e0b31f66de8f",
   "metadata": {},
   "outputs": [],
   "source": [
    "import matplotlib.pyplot as plt\n",
    "plt.rcParams['figure.figsize'] = [20, 10]"
   ]
  },
  {
   "cell_type": "markdown",
   "id": "1cd91e40-0b79-46e1-84bb-bd476a22fb05",
   "metadata": {},
   "source": [
    "# Projection"
   ]
  },
  {
   "cell_type": "code",
   "execution_count": null,
   "id": "603021ae-21ac-4114-a423-d50188c26678",
   "metadata": {},
   "outputs": [],
   "source": [
    "img = np.zeros((50,400,3))\n",
    "fx=118.3031; fy=118.3031; cx=199.50; cy=49.50/2\n",
    "A = np.array([[fx,0,cx],\n",
    "              [0,fy,cy],\n",
    "              [0,0,1]])\n",
    "k1 = -0.3366; k2 = 0.1513; k3 = -0.0444"
   ]
  },
  {
   "cell_type": "code",
   "execution_count": 3,
   "id": "1364ec47-4049-4e91-ab4a-b6b462f6ef58",
   "metadata": {},
   "outputs": [],
   "source": [
    "def projection(_img, _points, _A, _Rt, range_limit=30.0):\n",
    "    projected_img =   np.ones_like(_img,dtype=float)*np.inf\n",
    "    agumented_points = np.c_[_points,np.ones(_points.shape[0])]\n",
    "    transformed_points = np.linalg.inv(_Rt)@np.transpose(agumented_points)\n",
    "    projected_points = _A@transformed_points[:3,:]\n",
    "    hnormalized_points = projected_points/projected_points[2,:]\n",
    "\n",
    "    # transpose\n",
    "    hnormalized_points = np.transpose(hnormalized_points.astype(int))\n",
    "    transformed_points = np.transpose(transformed_points)\n",
    "\n",
    "    # in front of cameras only\n",
    "    condition1 = transformed_points[:,2] > 0\n",
    "    hnormalized_points = hnormalized_points[condition1]\n",
    "    transformed_points = transformed_points[condition1]\n",
    "    \n",
    "    condition_ = np.linalg.norm(transformed_points, axis=1) < range_limit\n",
    "    hnormalized_points = hnormalized_points[condition_]\n",
    "    transformed_points = transformed_points[condition_]\n",
    " \n",
    "    # inside of the image region\n",
    "    condition2 = ((0 <= hnormalized_points[:,0]) & (hnormalized_points[:,0] < _img.shape[1]) & (0 <= hnormalized_points[:,1]) & (hnormalized_points[:,1] < _img.shape[0]))\n",
    "    hnormalized_points = hnormalized_points[condition2]\n",
    "    transformed_points = transformed_points[condition2]\n",
    "\n",
    "    for i, hnormalized_point in enumerate(hnormalized_points):\n",
    "        t_y = hnormalized_point[1]\n",
    "        t_x = hnormalized_point[0]\n",
    "\n",
    "        # r = np.sqrt((t_x-cx)**2 + (t_y-cy)**2)\n",
    "        # distorted_x = int(t_x + r/(1 + k1*r**2 + k2*r**4 + k3*r**6))\n",
    "        # distorted_y = int(t_y + r/(1 + k1*r**2 + k2*r**4 + k3*r**6))\n",
    "\n",
    "        new_val = transformed_points[i]\n",
    "        pre_val = projected_img[t_y, t_x]\n",
    "        if (new_val[2] < pre_val[2]):\n",
    "            projected_img[t_y, t_x] = transformed_points[i,:3]\n",
    "\n",
    "    return projected_img"
   ]
  },
  {
   "cell_type": "code",
   "execution_count": null,
   "id": "f302d6b7-5868-4934-954a-4feb74af1979",
   "metadata": {},
   "outputs": [],
   "source": [
    "def GlobalMapProjection(global_map, seq_id, frame_idx):\n",
    "    # global map projection\n",
    "    Rt = np.eye(4)\n",
    "    transform = []\n",
    "    with open(\"./dump/%s/dump/%06d/data\" % (seq_id, frame_idx)) as fp:\n",
    "        lines = fp.readlines()\n",
    "        for idx, line in enumerate(lines):\n",
    "            if (\"estimate\" in line):\n",
    "                transform.append([float(item) for item in lines[idx+1].split()])\n",
    "                transform.append([float(item) for item in lines[idx+2].split()])\n",
    "                transform.append([float(item) for item in lines[idx+3].split()])\n",
    "                transform.append([float(item) for item in lines[idx+4].split()])\n",
    "                break\n",
    "\n",
    "\n",
    "    # Rotation coordinates change\n",
    "    Rt = np.asarray(transform)\n",
    "    rot_mat = Rt[:3,:3]\n",
    "    rot_class = R.from_matrix(rot_mat)\n",
    "    euler = rot_class.as_euler('xyz')\n",
    "    rot_class = R.from_euler('xyz', np.array([-euler[1], -euler[2], euler[0]]))\n",
    "    Rt[:3,:3] = rot_class.as_matrix()\n",
    "\n",
    "    # Translation coordinates change\n",
    "    Rt[:3,3] = np.array([-Rt[1,3], -Rt[2,3], Rt[0,3]])\n",
    "\n",
    "    global_points = np.asarray(global_map.points)\n",
    "    new_global_points = np.asarray([-global_points[:,1], -global_points[:,2], global_points[:,0]])\n",
    "    global_points = np.transpose(new_global_points)\n",
    "\n",
    "    projected_global_img = projection(img, global_points, A, Rt)\n",
    "    # plt.imshow(projected_global_img[:,:,2])\n",
    "    \n",
    "    return projected_global_img"
   ]
  },
  {
   "cell_type": "code",
   "execution_count": null,
   "id": "c797e1e1-4c92-4d5c-b376-8f40eebe52fe",
   "metadata": {},
   "outputs": [],
   "source": [
    "def LidarFrameProjection(lidar_pcd):\n",
    "    lidar_points = np.asarray(lidar_pcd.points)\n",
    "    new_lidar_points = np.asarray([-lidar_points[:,1], -lidar_points[:,2], lidar_points[:,0]])\n",
    "    lidar_points = np.transpose(new_lidar_points)\n",
    "\n",
    "    projected_lidar_img = projection(img, lidar_points, A, np.eye(4))\n",
    "    # plt.imshow(projected_lidar_img[:,:,2])\n",
    "    \n",
    "    return projected_lidar_img"
   ]
  },
  {
   "cell_type": "code",
   "execution_count": 4,
   "id": "88b8aa7c-3a05-468c-b10d-1468bdfcf2cc",
   "metadata": {},
   "outputs": [],
   "source": [
    "def DenseMapPosterior(seq_id):\n",
    "    \n",
    "    n_frames = len(sorted(glob('./dump/%s/dump/0*' % seq_id)))\n",
    "    global_map = o3d.io.read_point_cloud(\"./dump/%s/map.ply\" % seq_id)\n",
    "    # o3d.visualization.draw_geometries([global_map])\n",
    "\n",
    "    log_dmp_list = []\n",
    "    for frame_idx in range(n_frames):\n",
    "        if (frame_idx%10) == 0 : \n",
    "            print(frame_idx, '/', n_frames)\n",
    "\n",
    "        # global map projection\n",
    "        projected_global_img = GlobalMapProjection(global_map, seq_id, frame_idx)\n",
    "\n",
    "        # lidar frame projection\n",
    "        lidar_pcd = o3d.io.read_point_cloud(\"./dump/%s/dump/%06d/cloud.pcd\" % (seq_id, frame_idx))\n",
    "        projected_lidar_img = LidarFrameProjection(lidar_pcd);\n",
    "\n",
    "        # dmp calculation\n",
    "        flatten_lidar_xyz = projected_lidar_img.reshape((-1,3))\n",
    "        flatten_map_xyz = projected_global_img.reshape((-1,3))\n",
    "\n",
    "        dmp = 0\n",
    "        for lidar_val, map_val in zip(flatten_lidar_xyz, flatten_map_xyz):\n",
    "            if (lidar_val[0] != np.inf and map_val[0] != np.inf):\n",
    "                dmp = dmp + np.linalg.norm(lidar_val - map_val)\n",
    "        log_dmp_list.append(np.log(dmp))\n",
    "    \n",
    "    return np.mean(log_dmp_list)"
   ]
  },
  {
   "cell_type": "code",
   "execution_count": null,
   "id": "e236a595-7266-4d90-878d-7be350bbfe1f",
   "metadata": {},
   "outputs": [],
   "source": []
  },
  {
   "cell_type": "code",
   "execution_count": 5,
   "id": "ef22f0e8-3ddf-4c6f-bf7e-a57e6385e1e4",
   "metadata": {},
   "outputs": [],
   "source": [
    "img = np.zeros((50,400,3))\n",
    "fx=118.3031; fy=118.3031; cx=199.50; cy=49.50/2\n",
    "A = np.array([[fx,0,cx],\n",
    "              [0,fy,cy],\n",
    "              [0,0,1]])\n",
    "k1 = -0.3366; k2 = 0.1513; k3 = -0.0444"
   ]
  },
  {
   "cell_type": "code",
   "execution_count": null,
   "id": "72aba77d-df49-4d85-922f-6908a0a692d6",
   "metadata": {},
   "outputs": [],
   "source": [
    "bad_seq_ids = ['2021-12-15-07-37-30', '2021-12-15-09-06-38']\n",
    "good_seq_ids = ['2021-12-15-07-11-55', '2021-12-15-08-29-23', '2021-12-15-07-00-32', '2021-12-15-09-01-46']"
   ]
  },
  {
   "cell_type": "code",
   "execution_count": null,
   "id": "79c40622-60f3-4893-a9b5-bfa3d9c7eceb",
   "metadata": {},
   "outputs": [],
   "source": []
  },
  {
   "cell_type": "code",
   "execution_count": 7,
   "id": "fdc7c2ee-aa3a-47c2-b007-f24b9f68cbfd",
   "metadata": {},
   "outputs": [
    {
     "name": "stdout",
     "output_type": "stream",
     "text": [
      "0 / 233\n",
      "10 / 233\n",
      "20 / 233\n",
      "30 / 233\n",
      "40 / 233\n",
      "50 / 233\n",
      "60 / 233\n",
      "70 / 233\n",
      "80 / 233\n",
      "90 / 233\n",
      "100 / 233\n",
      "110 / 233\n",
      "120 / 233\n",
      "130 / 233\n",
      "140 / 233\n",
      "150 / 233\n",
      "160 / 233\n",
      "170 / 233\n",
      "180 / 233\n",
      "190 / 233\n",
      "200 / 233\n",
      "210 / 233\n",
      "220 / 233\n",
      "230 / 233\n"
     ]
    },
    {
     "data": {
      "text/plain": [
       "7.093989021272234"
      ]
     },
     "execution_count": 7,
     "metadata": {},
     "output_type": "execute_result"
    }
   ],
   "source": [
    "DenseMapPosterior(good_seq_ids[0])"
   ]
  },
  {
   "cell_type": "code",
   "execution_count": null,
   "id": "3addc24a-094b-4480-9775-b593548b3bd1",
   "metadata": {},
   "outputs": [
    {
     "name": "stdout",
     "output_type": "stream",
     "text": [
      "0 / 948\n",
      "10 / 948\n",
      "20 / 948\n",
      "30 / 948\n",
      "40 / 948\n",
      "50 / 948\n",
      "60 / 948\n",
      "70 / 948\n",
      "80 / 948\n",
      "90 / 948\n",
      "100 / 948\n",
      "110 / 948\n",
      "120 / 948\n",
      "130 / 948\n",
      "140 / 948\n",
      "150 / 948\n",
      "160 / 948\n",
      "170 / 948\n",
      "180 / 948\n",
      "190 / 948\n",
      "200 / 948\n",
      "210 / 948\n",
      "220 / 948\n",
      "230 / 948\n",
      "240 / 948\n",
      "250 / 948\n",
      "260 / 948\n",
      "270 / 948\n",
      "280 / 948\n",
      "290 / 948\n",
      "300 / 948\n",
      "310 / 948\n",
      "320 / 948\n",
      "330 / 948\n",
      "340 / 948\n",
      "350 / 948\n",
      "360 / 948\n",
      "370 / 948\n",
      "380 / 948\n",
      "390 / 948\n"
     ]
    }
   ],
   "source": [
    "DenseMapPosterior(bad_seq_ids[0])"
   ]
  },
  {
   "cell_type": "code",
   "execution_count": null,
   "id": "e3d1b373-f66b-40d9-87cf-b2c5a8a5faf6",
   "metadata": {},
   "outputs": [],
   "source": []
  }
 ],
 "metadata": {
  "kernelspec": {
   "display_name": "Python 3 (ipykernel)",
   "language": "python",
   "name": "python3"
  },
  "language_info": {
   "codemirror_mode": {
    "name": "ipython",
    "version": 3
   },
   "file_extension": ".py",
   "mimetype": "text/x-python",
   "name": "python",
   "nbconvert_exporter": "python",
   "pygments_lexer": "ipython3",
   "version": "3.9.7"
  }
 },
 "nbformat": 4,
 "nbformat_minor": 5
}
