{
 "cells": [
  {
   "cell_type": "code",
   "execution_count": 1,
   "id": "046641f5-0207-424a-9d3d-df8314b688ac",
   "metadata": {
    "tags": []
   },
   "outputs": [],
   "source": [
    "import sys  \n",
    "sys.path.insert(0, './lib')\n",
    "\n",
    "import numpy as np\n",
    "\n",
    "import matplotlib.pyplot as plt\n",
    "plt.rcParams['figure.figsize'] = [20, 10]"
   ]
  },
  {
   "cell_type": "code",
   "execution_count": 2,
   "id": "1a188560-a7cc-4669-994a-062d715bd0ac",
   "metadata": {},
   "outputs": [
    {
     "name": "stdout",
     "output_type": "stream",
     "text": [
      "Jupyter environment detected. Enabling Open3D WebVisualizer.\n",
      "[Open3D INFO] WebRTC GUI backend enabled.\n",
      "[Open3D INFO] WebRTCWindowSystem: HTTP handshake server disabled.\n"
     ]
    },
    {
     "name": "stderr",
     "output_type": "stream",
     "text": [
      "INFO - 2021-12-24 08:52:40,678 - utils - Note: NumExpr detected 16 cores but \"NUMEXPR_MAX_THREADS\" not set, so enforcing safe limit of 8.\n",
      "INFO - 2021-12-24 08:52:40,679 - utils - NumExpr defaulting to 8 threads.\n"
     ]
    }
   ],
   "source": [
    "import DenseMapPosterior as DMP"
   ]
  },
  {
   "cell_type": "markdown",
   "id": "1cd91e40-0b79-46e1-84bb-bd476a22fb05",
   "metadata": {
    "tags": []
   },
   "source": [
    "# Projection"
   ]
  },
  {
   "cell_type": "code",
   "execution_count": 3,
   "id": "ef22f0e8-3ddf-4c6f-bf7e-a57e6385e1e4",
   "metadata": {},
   "outputs": [],
   "source": [
    "fx=118.3031; fy=118.3031; cx=199.50; cy=49.50/2\n",
    "A = np.array([[fx,0,cx],\n",
    "              [0,fy,cy],\n",
    "              [0,0,1]])"
   ]
  },
  {
   "cell_type": "code",
   "execution_count": 4,
   "id": "72aba77d-df49-4d85-922f-6908a0a692d6",
   "metadata": {},
   "outputs": [],
   "source": [
    "bad_seq_ids = ['2021-12-15-07-37-30', '2021-12-15-09-06-38']\n",
    "good_seq_ids = ['2021-12-15-07-11-55', '2021-12-15-08-29-23', '2021-12-15-07-00-32', '2021-12-15-09-01-46']"
   ]
  },
  {
   "cell_type": "code",
   "execution_count": null,
   "id": "e66a6026-b66d-45e2-bc1f-0c22d75877b5",
   "metadata": {},
   "outputs": [],
   "source": []
  },
  {
   "cell_type": "code",
   "execution_count": null,
   "id": "3addc24a-094b-4480-9775-b593548b3bd1",
   "metadata": {},
   "outputs": [
    {
     "name": "stdout",
     "output_type": "stream",
     "text": [
      "0 / 948\n",
      "10 / 948\n",
      "20 / 948\n",
      "30 / 948\n",
      "40 / 948\n",
      "50 / 948\n"
     ]
    }
   ],
   "source": [
    "dmp_bad = DMP.DenseMapPosterior(bad_seq_ids[0], A)\n",
    "dmp_bad.compute()"
   ]
  },
  {
   "cell_type": "code",
   "execution_count": null,
   "id": "8bbabae4-1b6e-4755-b495-a750e86799da",
   "metadata": {},
   "outputs": [],
   "source": [
    "dmp_good = DMP.DenseMapPosterior(good_seq_ids[0], A)\n",
    "dmp_good.compute()"
   ]
  },
  {
   "cell_type": "code",
   "execution_count": null,
   "id": "a77fe699-0a86-4f97-a0f2-73cc86d74d50",
   "metadata": {},
   "outputs": [],
   "source": []
  }
 ],
 "metadata": {
  "kernelspec": {
   "display_name": "Python 3 (ipykernel)",
   "language": "python",
   "name": "python3"
  },
  "language_info": {
   "codemirror_mode": {
    "name": "ipython",
    "version": 3
   },
   "file_extension": ".py",
   "mimetype": "text/x-python",
   "name": "python",
   "nbconvert_exporter": "python",
   "pygments_lexer": "ipython3",
   "version": "3.9.7"
  }
 },
 "nbformat": 4,
 "nbformat_minor": 5
}
